{
 "cells": [
  {
   "cell_type": "code",
   "execution_count": 1,
   "metadata": {},
   "outputs": [],
   "source": [
    "%load_ext autoreload\n",
    "%autoreload 2"
   ]
  },
  {
   "cell_type": "code",
   "execution_count": 5,
   "metadata": {},
   "outputs": [
    {
     "ename": "TypeError",
     "evalue": "read_excel() missing 1 required positional argument: 'sheet_name'",
     "output_type": "error",
     "traceback": [
      "\u001b[1;31m---------------------------------------------------------------------------\u001b[0m",
      "\u001b[1;31mTypeError\u001b[0m                                 Traceback (most recent call last)",
      "Cell \u001b[1;32mIn[5], line 6\u001b[0m\n\u001b[0;32m      4\u001b[0m \u001b[38;5;66;03m# Load data\u001b[39;00m\n\u001b[0;32m      5\u001b[0m tasks \u001b[38;5;241m=\u001b[39m read_excel(\u001b[38;5;124m\"\u001b[39m\u001b[38;5;124mNW example.xlsx\u001b[39m\u001b[38;5;124m\"\u001b[39m,sheet_name\u001b[38;5;241m=\u001b[39m\u001b[38;5;124m\"\u001b[39m\u001b[38;5;124mZaterdag\u001b[39m\u001b[38;5;124m\"\u001b[39m)\n\u001b[1;32m----> 6\u001b[0m shifts \u001b[38;5;241m=\u001b[39m \u001b[43mread_excel\u001b[49m\u001b[43m(\u001b[49m\u001b[38;5;124;43m\"\u001b[39;49m\u001b[38;5;124;43mshifts.xlsx\u001b[39;49m\u001b[38;5;124;43m\"\u001b[39;49m\u001b[43m)\u001b[49m\n\u001b[0;32m      8\u001b[0m \u001b[38;5;66;03m# Schedule and optimize\u001b[39;00m\n\u001b[0;32m      9\u001b[0m scheduler \u001b[38;5;241m=\u001b[39m TaskScheduler(tasks)\n",
      "\u001b[1;31mTypeError\u001b[0m: read_excel() missing 1 required positional argument: 'sheet_name'"
     ]
    }
   ],
   "source": [
    "from project_code import TaskScheduler, ShiftOptimizer, visualize_schedule, read_excel, write_excel\n",
    " \n",
    "\n",
    "# Load data\n",
    "tasks = read_excel(\"NW example.xlsx\",sheet_name=\"Zaterdag\")\n",
    "shifts = read_excel(\"shifts.xlsx\")\n",
    "\n",
    "# Schedule and optimize\n",
    "scheduler = TaskScheduler(tasks)\n",
    "schedule = scheduler.generate_schedule()\n",
    "\n",
    "optimizer = ShiftOptimizer(shifts, schedule)\n",
    "optimized_shifts = optimizer.optimize_shifts()\n",
    "\n",
    "# Save and visualize\n",
    "write_excel(schedule, \"schedule.xlsx\")\n",
    "write_excel(optimized_shifts, \"optimized_shifts.xlsx\")\n",
    "\n",
    "visualize_schedule(schedule)\n"
   ]
  },
  {
   "cell_type": "code",
   "execution_count": 6,
   "metadata": {},
   "outputs": [
    {
     "name": "stdout",
     "output_type": "stream",
     "text": [
      "  Task Name      Start DateTime        Duration\n",
      "0    Task B 2025-01-16 12:00:00 0 days 03:05:00\n",
      "1    Task E 2025-01-15 09:00:00 0 days 01:00:00\n",
      "2    Task C 2025-01-18 16:00:00 0 days 02:58:00\n",
      "3    Task E 2025-01-15 14:00:00 0 days 02:04:00\n",
      "4    Task E 2025-01-17 11:00:00 0 days 02:25:00\n",
      "5    Task C 2025-01-19 12:00:00 0 days 04:06:00\n",
      "6    Task D 2025-01-11 14:00:00 0 days 02:18:00\n",
      "7    Task C 2025-01-11 09:00:00 0 days 02:45:00\n",
      "8    Task D 2025-01-16 12:00:00 0 days 02:00:00\n",
      "9    Task E 2025-01-14 11:00:00 0 days 03:56:00\n"
     ]
    }
   ],
   "source": [
    "import pandas as pd\n",
    "import random\n",
    "from datetime import datetime, timedelta\n",
    "\n",
    "# Generate random sample data\n",
    "tasks = [\"Task A\", \"Task B\", \"Task C\", \"Task D\", \"Task E\"]\n",
    "start_dates = [datetime(2025, 1, 10, 9, 0) + timedelta(days=random.randint(0, 10), hours=random.randint(0, 8)) for _ in range(10)]\n",
    "durations = [timedelta(hours=random.randint(1, 4), minutes=random.randint(0, 59)) for _ in range(10)]\n",
    "\n",
    "# Create a dataset\n",
    "data = {\n",
    "    \"Task Name\": [random.choice(tasks) for _ in range(10)],\n",
    "    \"Start DateTime\": start_dates,\n",
    "    \"Duration\": durations,\n",
    "}\n",
    "\n",
    "# Convert to a pandas DataFrame\n",
    "df = pd.DataFrame(data)\n",
    "\n",
    "# Display the DataFrame\n",
    "print(df)\n"
   ]
  },
  {
   "cell_type": "code",
   "execution_count": 7,
   "metadata": {},
   "outputs": [
    {
     "data": {
      "text/plain": [
       "'structured_task_input_template.xlsx'"
      ]
     },
     "execution_count": 7,
     "metadata": {},
     "output_type": "execute_result"
    }
   ],
   "source": [
    "import openpyxl\n",
    "from openpyxl.styles import Font, Alignment\n",
    "from openpyxl.utils import get_column_letter\n",
    "\n",
    "# Create a new workbook\n",
    "wb = openpyxl.Workbook()\n",
    "\n",
    "# Create Task Form Sheet\n",
    "form_sheet = wb.active\n",
    "form_sheet.title = \"Task Form\"\n",
    "\n",
    "# Add headers for the form\n",
    "form_headers = [\"Task Name\", \"Start Date (YYYY-MM-DD)\", \"Start Time (HH:MM)\", \"Duration (HH:MM)\"]\n",
    "for col_num, header in enumerate(form_headers, start=1):\n",
    "    cell = form_sheet.cell(row=1, column=col_num, value=header)\n",
    "    cell.font = Font(bold=True)\n",
    "    cell.alignment = Alignment(horizontal=\"center\", vertical=\"center\")\n",
    "    form_sheet.column_dimensions[get_column_letter(col_num)].width = 25\n",
    "\n",
    "# Add instructions to the form\n",
    "form_sheet[\"A3\"] = \"Instructions:\"\n",
    "form_sheet[\"A3\"].font = Font(bold=True, size=12)\n",
    "form_sheet[\"A4\"] = (\n",
    "    \"1. Enter one task at a time in the row below the headers.\"\n",
    "    \"\\n2. Use the provided formats for date and time.\"\n",
    "    \"\\n3. Leave empty rows to indicate the end of tasks.\"\n",
    ")\n",
    "\n",
    "form_sheet.merge_cells(\"A4:D6\")\n",
    "form_sheet[\"A4\"].alignment = Alignment(wrap_text=True, vertical=\"top\")\n",
    "\n",
    "# Create Task Summary Sheet\n",
    "summary_sheet = wb.create_sheet(title=\"Task Summary\")\n",
    "\n",
    "# Add headers for the summary\n",
    "summary_headers = [\"Task Name\", \"Start DateTime\", \"Duration\"]\n",
    "for col_num, header in enumerate(summary_headers, start=1):\n",
    "    cell = summary_sheet.cell(row=1, column=col_num, value=header)\n",
    "    cell.font = Font(bold=True)\n",
    "    cell.alignment = Alignment(horizontal=\"center\", vertical=\"center\")\n",
    "    summary_sheet.column_dimensions[get_column_letter(col_num)].width = 25\n",
    "\n",
    "# Add instructions to the summary\n",
    "summary_sheet[\"A3\"] = \"This sheet will compile tasks from the 'Task Form' automatically.\"\n",
    "summary_sheet[\"A3\"].font = Font(italic=True)\n",
    "summary_sheet[\"A3\"].alignment = Alignment(wrap_text=True)\n",
    "\n",
    "# Save the workbook\n",
    "file_path_formatted = \"structured_task_input_template.xlsx\"\n",
    "wb.save(file_path_formatted)\n",
    "\n",
    "file_path_formatted\n"
   ]
  }
 ],
 "metadata": {
  "kernelspec": {
   "display_name": "Python 3",
   "language": "python",
   "name": "python3"
  },
  "language_info": {
   "codemirror_mode": {
    "name": "ipython",
    "version": 3
   },
   "file_extension": ".py",
   "mimetype": "text/x-python",
   "name": "python",
   "nbconvert_exporter": "python",
   "pygments_lexer": "ipython3",
   "version": "3.11.9"
  }
 },
 "nbformat": 4,
 "nbformat_minor": 2
}
